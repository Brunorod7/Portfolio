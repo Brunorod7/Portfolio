{
  "nbformat": 4,
  "nbformat_minor": 0,
  "metadata": {
    "colab": {
      "provenance": []
    },
    "kernelspec": {
      "name": "python3",
      "display_name": "Python 3"
    },
    "language_info": {
      "name": "python"
    }
  },
  "cells": [
    {
      "cell_type": "code",
      "source": [
        "import numpy as np\n",
        "import matplotlib.pyplot as plt\n",
        "import pandas as pd\n",
        "\n",
        "import yfinance as yf\n",
        "\n",
        "from sklearn.preprocessing import MinMaxScaler\n",
        "from tensorflow.keras.models import Sequential\n",
        "from tensorflow.keras.layers import Dense, Dropout, GRU"
      ],
      "metadata": {
        "id": "hAhunXvHALAy"
      },
      "execution_count": null,
      "outputs": []
    },
    {
      "cell_type": "code",
      "source": [
        "Activo = \"BTC-USD\"\n",
        "#Activo = 'AMZN'\n",
        "hist = yf.download(Activo, start = '2015-01-01', end='2025-06-30')\n",
        "hist = hist.dropna()"
      ],
      "metadata": {
        "colab": {
          "base_uri": "https://localhost:8080/"
        },
        "id": "bdBBVxNN_uTQ",
        "outputId": "d99c9a8a-534b-48af-c8d8-33c58b8fa9de"
      },
      "execution_count": null,
      "outputs": [
        {
          "output_type": "stream",
          "name": "stderr",
          "text": [
            "/tmp/ipython-input-3927095771.py:3: FutureWarning: YF.download() has changed argument auto_adjust default to True\n",
            "  hist = yf.download(Activo, start = '2015-01-01', end='2025-06-30')\n",
            "[*********************100%***********************]  1 of 1 completed\n"
          ]
        }
      ]
    },
    {
      "cell_type": "code",
      "source": [
        "hist"
      ],
      "metadata": {
        "colab": {
          "base_uri": "https://localhost:8080/",
          "height": 486
        },
        "id": "O3vjm_nIAWQM",
        "outputId": "ca120c93-646b-439c-9509-6bae64bf2d30"
      },
      "execution_count": null,
      "outputs": [
        {
          "output_type": "execute_result",
          "data": {
            "text/plain": [
              "Price               Close           High            Low           Open  \\\n",
              "Ticker            BTC-USD        BTC-USD        BTC-USD        BTC-USD   \n",
              "Date                                                                     \n",
              "2015-01-01     314.248993     320.434998     314.002991     320.434998   \n",
              "2015-01-02     315.032013     315.838989     313.565002     314.079010   \n",
              "2015-01-03     281.082001     315.149994     281.082001     314.846008   \n",
              "2015-01-04     264.195007     287.230011     257.612000     281.145996   \n",
              "2015-01-05     274.473999     278.341003     265.084015     265.084015   \n",
              "...                   ...            ...            ...            ...   \n",
              "2025-06-25  107361.257812  108168.398438  105881.390625  106047.406250   \n",
              "2025-06-26  106960.000000  108305.546875  106666.351562  107375.070312   \n",
              "2025-06-27  107088.429688  107772.468750  106449.992188  106954.921875   \n",
              "2025-06-28  107327.703125  107567.882812  106883.976562  107090.546875   \n",
              "2025-06-29  108385.570312  108526.304688  107230.109375  107327.820312   \n",
              "\n",
              "Price            Volume  \n",
              "Ticker          BTC-USD  \n",
              "Date                     \n",
              "2015-01-01      8036550  \n",
              "2015-01-02      7860650  \n",
              "2015-01-03     33054400  \n",
              "2015-01-04     55629100  \n",
              "2015-01-05     43962800  \n",
              "...                 ...  \n",
              "2025-06-25  51624120283  \n",
              "2025-06-26  43891990613  \n",
              "2025-06-27  45353692675  \n",
              "2025-06-28  30037708335  \n",
              "2025-06-29  35534874438  \n",
              "\n",
              "[3833 rows x 5 columns]"
            ],
            "text/html": [
              "\n",
              "  <div id=\"df-d4db6c4b-db16-40d4-ae37-cedeb83d4e36\" class=\"colab-df-container\">\n",
              "    <div>\n",
              "<style scoped>\n",
              "    .dataframe tbody tr th:only-of-type {\n",
              "        vertical-align: middle;\n",
              "    }\n",
              "\n",
              "    .dataframe tbody tr th {\n",
              "        vertical-align: top;\n",
              "    }\n",
              "\n",
              "    .dataframe thead tr th {\n",
              "        text-align: left;\n",
              "    }\n",
              "\n",
              "    .dataframe thead tr:last-of-type th {\n",
              "        text-align: right;\n",
              "    }\n",
              "</style>\n",
              "<table border=\"1\" class=\"dataframe\">\n",
              "  <thead>\n",
              "    <tr>\n",
              "      <th>Price</th>\n",
              "      <th>Close</th>\n",
              "      <th>High</th>\n",
              "      <th>Low</th>\n",
              "      <th>Open</th>\n",
              "      <th>Volume</th>\n",
              "    </tr>\n",
              "    <tr>\n",
              "      <th>Ticker</th>\n",
              "      <th>BTC-USD</th>\n",
              "      <th>BTC-USD</th>\n",
              "      <th>BTC-USD</th>\n",
              "      <th>BTC-USD</th>\n",
              "      <th>BTC-USD</th>\n",
              "    </tr>\n",
              "    <tr>\n",
              "      <th>Date</th>\n",
              "      <th></th>\n",
              "      <th></th>\n",
              "      <th></th>\n",
              "      <th></th>\n",
              "      <th></th>\n",
              "    </tr>\n",
              "  </thead>\n",
              "  <tbody>\n",
              "    <tr>\n",
              "      <th>2015-01-01</th>\n",
              "      <td>314.248993</td>\n",
              "      <td>320.434998</td>\n",
              "      <td>314.002991</td>\n",
              "      <td>320.434998</td>\n",
              "      <td>8036550</td>\n",
              "    </tr>\n",
              "    <tr>\n",
              "      <th>2015-01-02</th>\n",
              "      <td>315.032013</td>\n",
              "      <td>315.838989</td>\n",
              "      <td>313.565002</td>\n",
              "      <td>314.079010</td>\n",
              "      <td>7860650</td>\n",
              "    </tr>\n",
              "    <tr>\n",
              "      <th>2015-01-03</th>\n",
              "      <td>281.082001</td>\n",
              "      <td>315.149994</td>\n",
              "      <td>281.082001</td>\n",
              "      <td>314.846008</td>\n",
              "      <td>33054400</td>\n",
              "    </tr>\n",
              "    <tr>\n",
              "      <th>2015-01-04</th>\n",
              "      <td>264.195007</td>\n",
              "      <td>287.230011</td>\n",
              "      <td>257.612000</td>\n",
              "      <td>281.145996</td>\n",
              "      <td>55629100</td>\n",
              "    </tr>\n",
              "    <tr>\n",
              "      <th>2015-01-05</th>\n",
              "      <td>274.473999</td>\n",
              "      <td>278.341003</td>\n",
              "      <td>265.084015</td>\n",
              "      <td>265.084015</td>\n",
              "      <td>43962800</td>\n",
              "    </tr>\n",
              "    <tr>\n",
              "      <th>...</th>\n",
              "      <td>...</td>\n",
              "      <td>...</td>\n",
              "      <td>...</td>\n",
              "      <td>...</td>\n",
              "      <td>...</td>\n",
              "    </tr>\n",
              "    <tr>\n",
              "      <th>2025-06-25</th>\n",
              "      <td>107361.257812</td>\n",
              "      <td>108168.398438</td>\n",
              "      <td>105881.390625</td>\n",
              "      <td>106047.406250</td>\n",
              "      <td>51624120283</td>\n",
              "    </tr>\n",
              "    <tr>\n",
              "      <th>2025-06-26</th>\n",
              "      <td>106960.000000</td>\n",
              "      <td>108305.546875</td>\n",
              "      <td>106666.351562</td>\n",
              "      <td>107375.070312</td>\n",
              "      <td>43891990613</td>\n",
              "    </tr>\n",
              "    <tr>\n",
              "      <th>2025-06-27</th>\n",
              "      <td>107088.429688</td>\n",
              "      <td>107772.468750</td>\n",
              "      <td>106449.992188</td>\n",
              "      <td>106954.921875</td>\n",
              "      <td>45353692675</td>\n",
              "    </tr>\n",
              "    <tr>\n",
              "      <th>2025-06-28</th>\n",
              "      <td>107327.703125</td>\n",
              "      <td>107567.882812</td>\n",
              "      <td>106883.976562</td>\n",
              "      <td>107090.546875</td>\n",
              "      <td>30037708335</td>\n",
              "    </tr>\n",
              "    <tr>\n",
              "      <th>2025-06-29</th>\n",
              "      <td>108385.570312</td>\n",
              "      <td>108526.304688</td>\n",
              "      <td>107230.109375</td>\n",
              "      <td>107327.820312</td>\n",
              "      <td>35534874438</td>\n",
              "    </tr>\n",
              "  </tbody>\n",
              "</table>\n",
              "<p>3833 rows × 5 columns</p>\n",
              "</div>\n",
              "    <div class=\"colab-df-buttons\">\n",
              "\n",
              "  <div class=\"colab-df-container\">\n",
              "    <button class=\"colab-df-convert\" onclick=\"convertToInteractive('df-d4db6c4b-db16-40d4-ae37-cedeb83d4e36')\"\n",
              "            title=\"Convert this dataframe to an interactive table.\"\n",
              "            style=\"display:none;\">\n",
              "\n",
              "  <svg xmlns=\"http://www.w3.org/2000/svg\" height=\"24px\" viewBox=\"0 -960 960 960\">\n",
              "    <path d=\"M120-120v-720h720v720H120Zm60-500h600v-160H180v160Zm220 220h160v-160H400v160Zm0 220h160v-160H400v160ZM180-400h160v-160H180v160Zm440 0h160v-160H620v160ZM180-180h160v-160H180v160Zm440 0h160v-160H620v160Z\"/>\n",
              "  </svg>\n",
              "    </button>\n",
              "\n",
              "  <style>\n",
              "    .colab-df-container {\n",
              "      display:flex;\n",
              "      gap: 12px;\n",
              "    }\n",
              "\n",
              "    .colab-df-convert {\n",
              "      background-color: #E8F0FE;\n",
              "      border: none;\n",
              "      border-radius: 50%;\n",
              "      cursor: pointer;\n",
              "      display: none;\n",
              "      fill: #1967D2;\n",
              "      height: 32px;\n",
              "      padding: 0 0 0 0;\n",
              "      width: 32px;\n",
              "    }\n",
              "\n",
              "    .colab-df-convert:hover {\n",
              "      background-color: #E2EBFA;\n",
              "      box-shadow: 0px 1px 2px rgba(60, 64, 67, 0.3), 0px 1px 3px 1px rgba(60, 64, 67, 0.15);\n",
              "      fill: #174EA6;\n",
              "    }\n",
              "\n",
              "    .colab-df-buttons div {\n",
              "      margin-bottom: 4px;\n",
              "    }\n",
              "\n",
              "    [theme=dark] .colab-df-convert {\n",
              "      background-color: #3B4455;\n",
              "      fill: #D2E3FC;\n",
              "    }\n",
              "\n",
              "    [theme=dark] .colab-df-convert:hover {\n",
              "      background-color: #434B5C;\n",
              "      box-shadow: 0px 1px 3px 1px rgba(0, 0, 0, 0.15);\n",
              "      filter: drop-shadow(0px 1px 2px rgba(0, 0, 0, 0.3));\n",
              "      fill: #FFFFFF;\n",
              "    }\n",
              "  </style>\n",
              "\n",
              "    <script>\n",
              "      const buttonEl =\n",
              "        document.querySelector('#df-d4db6c4b-db16-40d4-ae37-cedeb83d4e36 button.colab-df-convert');\n",
              "      buttonEl.style.display =\n",
              "        google.colab.kernel.accessAllowed ? 'block' : 'none';\n",
              "\n",
              "      async function convertToInteractive(key) {\n",
              "        const element = document.querySelector('#df-d4db6c4b-db16-40d4-ae37-cedeb83d4e36');\n",
              "        const dataTable =\n",
              "          await google.colab.kernel.invokeFunction('convertToInteractive',\n",
              "                                                    [key], {});\n",
              "        if (!dataTable) return;\n",
              "\n",
              "        const docLinkHtml = 'Like what you see? Visit the ' +\n",
              "          '<a target=\"_blank\" href=https://colab.research.google.com/notebooks/data_table.ipynb>data table notebook</a>'\n",
              "          + ' to learn more about interactive tables.';\n",
              "        element.innerHTML = '';\n",
              "        dataTable['output_type'] = 'display_data';\n",
              "        await google.colab.output.renderOutput(dataTable, element);\n",
              "        const docLink = document.createElement('div');\n",
              "        docLink.innerHTML = docLinkHtml;\n",
              "        element.appendChild(docLink);\n",
              "      }\n",
              "    </script>\n",
              "  </div>\n",
              "\n",
              "\n",
              "    <div id=\"df-efb72b5a-fade-47d3-8ec2-ec384fec5b61\">\n",
              "      <button class=\"colab-df-quickchart\" onclick=\"quickchart('df-efb72b5a-fade-47d3-8ec2-ec384fec5b61')\"\n",
              "                title=\"Suggest charts\"\n",
              "                style=\"display:none;\">\n",
              "\n",
              "<svg xmlns=\"http://www.w3.org/2000/svg\" height=\"24px\"viewBox=\"0 0 24 24\"\n",
              "     width=\"24px\">\n",
              "    <g>\n",
              "        <path d=\"M19 3H5c-1.1 0-2 .9-2 2v14c0 1.1.9 2 2 2h14c1.1 0 2-.9 2-2V5c0-1.1-.9-2-2-2zM9 17H7v-7h2v7zm4 0h-2V7h2v10zm4 0h-2v-4h2v4z\"/>\n",
              "    </g>\n",
              "</svg>\n",
              "      </button>\n",
              "\n",
              "<style>\n",
              "  .colab-df-quickchart {\n",
              "      --bg-color: #E8F0FE;\n",
              "      --fill-color: #1967D2;\n",
              "      --hover-bg-color: #E2EBFA;\n",
              "      --hover-fill-color: #174EA6;\n",
              "      --disabled-fill-color: #AAA;\n",
              "      --disabled-bg-color: #DDD;\n",
              "  }\n",
              "\n",
              "  [theme=dark] .colab-df-quickchart {\n",
              "      --bg-color: #3B4455;\n",
              "      --fill-color: #D2E3FC;\n",
              "      --hover-bg-color: #434B5C;\n",
              "      --hover-fill-color: #FFFFFF;\n",
              "      --disabled-bg-color: #3B4455;\n",
              "      --disabled-fill-color: #666;\n",
              "  }\n",
              "\n",
              "  .colab-df-quickchart {\n",
              "    background-color: var(--bg-color);\n",
              "    border: none;\n",
              "    border-radius: 50%;\n",
              "    cursor: pointer;\n",
              "    display: none;\n",
              "    fill: var(--fill-color);\n",
              "    height: 32px;\n",
              "    padding: 0;\n",
              "    width: 32px;\n",
              "  }\n",
              "\n",
              "  .colab-df-quickchart:hover {\n",
              "    background-color: var(--hover-bg-color);\n",
              "    box-shadow: 0 1px 2px rgba(60, 64, 67, 0.3), 0 1px 3px 1px rgba(60, 64, 67, 0.15);\n",
              "    fill: var(--button-hover-fill-color);\n",
              "  }\n",
              "\n",
              "  .colab-df-quickchart-complete:disabled,\n",
              "  .colab-df-quickchart-complete:disabled:hover {\n",
              "    background-color: var(--disabled-bg-color);\n",
              "    fill: var(--disabled-fill-color);\n",
              "    box-shadow: none;\n",
              "  }\n",
              "\n",
              "  .colab-df-spinner {\n",
              "    border: 2px solid var(--fill-color);\n",
              "    border-color: transparent;\n",
              "    border-bottom-color: var(--fill-color);\n",
              "    animation:\n",
              "      spin 1s steps(1) infinite;\n",
              "  }\n",
              "\n",
              "  @keyframes spin {\n",
              "    0% {\n",
              "      border-color: transparent;\n",
              "      border-bottom-color: var(--fill-color);\n",
              "      border-left-color: var(--fill-color);\n",
              "    }\n",
              "    20% {\n",
              "      border-color: transparent;\n",
              "      border-left-color: var(--fill-color);\n",
              "      border-top-color: var(--fill-color);\n",
              "    }\n",
              "    30% {\n",
              "      border-color: transparent;\n",
              "      border-left-color: var(--fill-color);\n",
              "      border-top-color: var(--fill-color);\n",
              "      border-right-color: var(--fill-color);\n",
              "    }\n",
              "    40% {\n",
              "      border-color: transparent;\n",
              "      border-right-color: var(--fill-color);\n",
              "      border-top-color: var(--fill-color);\n",
              "    }\n",
              "    60% {\n",
              "      border-color: transparent;\n",
              "      border-right-color: var(--fill-color);\n",
              "    }\n",
              "    80% {\n",
              "      border-color: transparent;\n",
              "      border-right-color: var(--fill-color);\n",
              "      border-bottom-color: var(--fill-color);\n",
              "    }\n",
              "    90% {\n",
              "      border-color: transparent;\n",
              "      border-bottom-color: var(--fill-color);\n",
              "    }\n",
              "  }\n",
              "</style>\n",
              "\n",
              "      <script>\n",
              "        async function quickchart(key) {\n",
              "          const quickchartButtonEl =\n",
              "            document.querySelector('#' + key + ' button');\n",
              "          quickchartButtonEl.disabled = true;  // To prevent multiple clicks.\n",
              "          quickchartButtonEl.classList.add('colab-df-spinner');\n",
              "          try {\n",
              "            const charts = await google.colab.kernel.invokeFunction(\n",
              "                'suggestCharts', [key], {});\n",
              "          } catch (error) {\n",
              "            console.error('Error during call to suggestCharts:', error);\n",
              "          }\n",
              "          quickchartButtonEl.classList.remove('colab-df-spinner');\n",
              "          quickchartButtonEl.classList.add('colab-df-quickchart-complete');\n",
              "        }\n",
              "        (() => {\n",
              "          let quickchartButtonEl =\n",
              "            document.querySelector('#df-efb72b5a-fade-47d3-8ec2-ec384fec5b61 button');\n",
              "          quickchartButtonEl.style.display =\n",
              "            google.colab.kernel.accessAllowed ? 'block' : 'none';\n",
              "        })();\n",
              "      </script>\n",
              "    </div>\n",
              "\n",
              "  <div id=\"id_5676eb59-f49b-4246-9783-0ad204a5d07c\">\n",
              "    <style>\n",
              "      .colab-df-generate {\n",
              "        background-color: #E8F0FE;\n",
              "        border: none;\n",
              "        border-radius: 50%;\n",
              "        cursor: pointer;\n",
              "        display: none;\n",
              "        fill: #1967D2;\n",
              "        height: 32px;\n",
              "        padding: 0 0 0 0;\n",
              "        width: 32px;\n",
              "      }\n",
              "\n",
              "      .colab-df-generate:hover {\n",
              "        background-color: #E2EBFA;\n",
              "        box-shadow: 0px 1px 2px rgba(60, 64, 67, 0.3), 0px 1px 3px 1px rgba(60, 64, 67, 0.15);\n",
              "        fill: #174EA6;\n",
              "      }\n",
              "\n",
              "      [theme=dark] .colab-df-generate {\n",
              "        background-color: #3B4455;\n",
              "        fill: #D2E3FC;\n",
              "      }\n",
              "\n",
              "      [theme=dark] .colab-df-generate:hover {\n",
              "        background-color: #434B5C;\n",
              "        box-shadow: 0px 1px 3px 1px rgba(0, 0, 0, 0.15);\n",
              "        filter: drop-shadow(0px 1px 2px rgba(0, 0, 0, 0.3));\n",
              "        fill: #FFFFFF;\n",
              "      }\n",
              "    </style>\n",
              "    <button class=\"colab-df-generate\" onclick=\"generateWithVariable('hist')\"\n",
              "            title=\"Generate code using this dataframe.\"\n",
              "            style=\"display:none;\">\n",
              "\n",
              "  <svg xmlns=\"http://www.w3.org/2000/svg\" height=\"24px\"viewBox=\"0 0 24 24\"\n",
              "       width=\"24px\">\n",
              "    <path d=\"M7,19H8.4L18.45,9,17,7.55,7,17.6ZM5,21V16.75L18.45,3.32a2,2,0,0,1,2.83,0l1.4,1.43a1.91,1.91,0,0,1,.58,1.4,1.91,1.91,0,0,1-.58,1.4L9.25,21ZM18.45,9,17,7.55Zm-12,3A5.31,5.31,0,0,0,4.9,8.1,5.31,5.31,0,0,0,1,6.5,5.31,5.31,0,0,0,4.9,4.9,5.31,5.31,0,0,0,6.5,1,5.31,5.31,0,0,0,8.1,4.9,5.31,5.31,0,0,0,12,6.5,5.46,5.46,0,0,0,6.5,12Z\"/>\n",
              "  </svg>\n",
              "    </button>\n",
              "    <script>\n",
              "      (() => {\n",
              "      const buttonEl =\n",
              "        document.querySelector('#id_5676eb59-f49b-4246-9783-0ad204a5d07c button.colab-df-generate');\n",
              "      buttonEl.style.display =\n",
              "        google.colab.kernel.accessAllowed ? 'block' : 'none';\n",
              "\n",
              "      buttonEl.onclick = () => {\n",
              "        google.colab.notebook.generateWithVariable('hist');\n",
              "      }\n",
              "      })();\n",
              "    </script>\n",
              "  </div>\n",
              "\n",
              "    </div>\n",
              "  </div>\n"
            ],
            "application/vnd.google.colaboratory.intrinsic+json": {
              "type": "dataframe",
              "variable_name": "hist",
              "summary": "{\n  \"name\": \"hist\",\n  \"rows\": 3833,\n  \"fields\": [\n    {\n      \"column\": [\n        \"Date\",\n        \"\"\n      ],\n      \"properties\": {\n        \"dtype\": \"date\",\n        \"min\": \"2015-01-01 00:00:00\",\n        \"max\": \"2025-06-29 00:00:00\",\n        \"num_unique_values\": 3833,\n        \"samples\": [\n          \"2021-05-18 00:00:00\",\n          \"2021-07-12 00:00:00\",\n          \"2024-08-27 00:00:00\"\n        ],\n        \"semantic_type\": \"\",\n        \"description\": \"\"\n      }\n    },\n    {\n      \"column\": [\n        \"Close\",\n        \"BTC-USD\"\n      ],\n      \"properties\": {\n        \"dtype\": \"number\",\n        \"std\": 27036.78360893054,\n        \"min\": 178.10299682617188,\n        \"max\": 111673.28125,\n        \"num_unique_values\": 3830,\n        \"samples\": [\n          16863.23828125,\n          86154.59375,\n          9081.76171875\n        ],\n        \"semantic_type\": \"\",\n        \"description\": \"\"\n      }\n    },\n    {\n      \"column\": [\n        \"High\",\n        \"BTC-USD\"\n      ],\n      \"properties\": {\n        \"dtype\": \"number\",\n        \"std\": 27535.623132542787,\n        \"min\": 211.7310028076172,\n        \"max\": 111970.171875,\n        \"num_unique_values\": 3830,\n        \"samples\": [\n          16964.5859375,\n          86847.265625,\n          9555.2421875\n        ],\n        \"semantic_type\": \"\",\n        \"description\": \"\"\n      }\n    },\n    {\n      \"column\": [\n        \"Low\",\n        \"BTC-USD\"\n      ],\n      \"properties\": {\n        \"dtype\": \"number\",\n        \"std\": 26453.591858496024,\n        \"min\": 171.50999450683594,\n        \"max\": 109285.0703125,\n        \"num_unique_values\": 3831,\n        \"samples\": [\n          42367.83203125,\n          6803.8798828125,\n          38696.19140625\n        ],\n        \"semantic_type\": \"\",\n        \"description\": \"\"\n      }\n    },\n    {\n      \"column\": [\n        \"Open\",\n        \"BTC-USD\"\n      ],\n      \"properties\": {\n        \"dtype\": \"number\",\n        \"std\": 27006.036782028634,\n        \"min\": 176.89700317382812,\n        \"max\": 111679.359375,\n        \"num_unique_values\": 3830,\n        \"samples\": [\n          16680.205078125,\n          86742.65625,\n          9522.740234375\n        ],\n        \"semantic_type\": \"\",\n        \"description\": \"\"\n      }\n    },\n    {\n      \"column\": [\n        \"Volume\",\n        \"BTC-USD\"\n      ],\n      \"properties\": {\n        \"dtype\": \"number\",\n        \"std\": 21044608289,\n        \"min\": 7860650,\n        \"max\": 350967941479,\n        \"num_unique_values\": 3833,\n        \"samples\": [\n          56187365084,\n          24321499537,\n          39103882198\n        ],\n        \"semantic_type\": \"\",\n        \"description\": \"\"\n      }\n    }\n  ]\n}"
            }
          },
          "metadata": {},
          "execution_count": 4
        }
      ]
    },
    {
      "cell_type": "code",
      "source": [
        "hist['Close'].plot()"
      ],
      "metadata": {
        "colab": {
          "base_uri": "https://localhost:8080/",
          "height": 466
        },
        "id": "TbYGCRrIAcGa",
        "outputId": "e77fa176-5cc3-4f15-e238-67517af17f23"
      },
      "execution_count": null,
      "outputs": [
        {
          "output_type": "execute_result",
          "data": {
            "text/plain": [
              "<Axes: xlabel='Date'>"
            ]
          },
          "metadata": {},
          "execution_count": 5
        },
        {
          "output_type": "display_data",
          "data": {
            "text/plain": [
              "<Figure size 640x480 with 1 Axes>"
            ],
            "image/png": "[encoded data removed]"
          },
          "metadata": {}
        }
      ]
    },
    {
      "cell_type": "markdown",
      "source": [
        "Modificacion de datos"
      ],
      "metadata": {
        "id": "WtZgLP5XAn_S"
      }
    },
    {
      "cell_type": "code",
      "source": [
        "scaler = MinMaxScaler(feature_range=(0,1))\n",
        "scaled_data = scaler.fit_transform(hist['Close'].values.reshape(-1,1)) ## lo tranformamos en array en en una columna (-1,1)"
      ],
      "metadata": {
        "id": "xSgk_ClXAqYR"
      },
      "execution_count": null,
      "outputs": []
    },
    {
      "cell_type": "code",
      "source": [
        "scaled_data"
      ],
      "metadata": {
        "colab": {
          "base_uri": "https://localhost:8080/"
        },
        "id": "zAXtyKOmBKCE",
        "outputId": "58f24600-4849-42af-dda6-27e2473ba2d7"
      },
      "execution_count": null,
      "outputs": [
        {
          "output_type": "execute_result",
          "data": {
            "text/plain": [
              "array([[1.22109313e-03],\n",
              "       [1.22811603e-03],\n",
              "       [9.23618452e-04],\n",
              "       ...,\n",
              "       [9.58878477e-01],\n",
              "       [9.61024520e-01],\n",
              "       [9.70512528e-01]])"
            ]
          },
          "metadata": {},
          "execution_count": 7
        }
      ]
    },
    {
      "cell_type": "markdown",
      "source": [],
      "metadata": {
        "id": "EPWZlI77BTdN"
      }
    },
    {
      "cell_type": "code",
      "source": [
        "x_train = []\n",
        "y_train = []\n",
        "\n",
        "prediction_days = 60\n",
        "for i in range(prediction_days, len(scaled_data)):\n",
        "    x_train.append(scaled_data[i-prediction_days:i, 0]) # vamos agarrando los 60 precios anteriores.\n",
        "    y_train.append(scaled_data[i, 0])"
      ],
      "metadata": {
        "id": "D9QHtCiiB6Xn"
      },
      "execution_count": null,
      "outputs": []
    },
    {
      "cell_type": "code",
      "source": [
        "#convertimos la lista en columnas con ARRAY\n",
        "\n",
        "x_train = np.array(x_train)\n",
        "y_train = np.array(y_train)"
      ],
      "metadata": {
        "id": "p8q58JE1CGgP"
      },
      "execution_count": null,
      "outputs": []
    },
    {
      "cell_type": "code",
      "source": [
        "x_train"
      ],
      "metadata": {
        "colab": {
          "base_uri": "https://localhost:8080/"
        },
        "id": "FS_pLLcTCU0K",
        "outputId": "e5392c0a-9e17-4fde-d61e-6064cc0ccf48"
      },
      "execution_count": null,
      "outputs": [
        {
          "output_type": "execute_result",
          "data": {
            "text/plain": [
              "array([[1.22109313e-03, 1.22811603e-03, 9.23618452e-04, ...,\n",
              "        6.79177407e-04, 6.83078900e-04, 7.36345735e-04],\n",
              "       [1.22811603e-03, 9.23618452e-04, 7.72159046e-04, ...,\n",
              "        6.83078900e-04, 7.36345735e-04, 8.75078350e-04],\n",
              "       [9.23618452e-04, 7.72159046e-04, 8.64351299e-04, ...,\n",
              "        7.36345735e-04, 8.75078350e-04, 9.29179186e-04],\n",
              "       ...,\n",
              "       [8.50266787e-01, 8.44042653e-01, 8.43347766e-01, ...,\n",
              "        9.49525634e-01, 9.61325472e-01, 9.57726591e-01],\n",
              "       [8.44042653e-01, 8.43347766e-01, 8.63842136e-01, ...,\n",
              "        9.61325472e-01, 9.57726591e-01, 9.58878477e-01],\n",
              "       [8.43347766e-01, 8.63842136e-01, 8.67588795e-01, ...,\n",
              "        9.57726591e-01, 9.58878477e-01, 9.61024520e-01]])"
            ]
          },
          "metadata": {},
          "execution_count": 10
        }
      ]
    },
    {
      "cell_type": "markdown",
      "source": [
        "una red neuronal necesita como minimo 3 dimenciones"
      ],
      "metadata": {
        "id": "JcN2ni29Cj5e"
      }
    },
    {
      "cell_type": "code",
      "source": [
        "x_train = np.reshape(x_train, (x_train.shape[0], x_train.shape[1], 1))\n",
        "x_train.shape # Existe 3591 filas con 60 valores cada fila"
      ],
      "metadata": {
        "colab": {
          "base_uri": "https://localhost:8080/"
        },
        "id": "lw_SOEIcCol0",
        "outputId": "f4e82ffa-4796-435f-d967-936415cb4e13"
      },
      "execution_count": null,
      "outputs": [
        {
          "output_type": "execute_result",
          "data": {
            "text/plain": [
              "(3773, 60, 1)"
            ]
          },
          "metadata": {},
          "execution_count": 11
        }
      ]
    },
    {
      "cell_type": "markdown",
      "source": [
        "contruyendo el modelo"
      ],
      "metadata": {
        "id": "vVTgAqo5DBlr"
      }
    },
    {
      "cell_type": "code",
      "source": [
        "model = Sequential()\n",
        "\n",
        "model.add(GRU(units=50, return_sequences=True, input_shape=(x_train.shape[1], 1))) #cuantas mas unidades mejor se adapta pero cuidado con el overfiting , return_sequences TRUE es para que se comunide para delante y atras.\n",
        "model.add(Dropout(0.2)) ## capa de dropuot nos ayuda a evitar el sobreajuste.\n",
        "\n",
        "model.add(GRU(units=50, return_sequences=True))\n",
        "model.add(Dropout(0.2))\n",
        "\n",
        "model.add(GRU(units=50))\n",
        "model.add(Dropout(0.1))\n",
        "\n",
        "## la que predice el valor\n",
        "model.add(Dense(units=1))\n",
        "\n",
        "model.compile(optimizer='adam', loss='mean_squared_error')\n",
        "model.fit(x_train, y_train, epochs=10, batch_size=25) # 25 epocas y tamaño de 32 ( si pongo de 10 son de 360 datos cada epoca , si pongo 25 son de 144datos )"
      ],
      "metadata": {
        "colab": {
          "base_uri": "https://localhost:8080/"
        },
        "id": "LrCTxfIaChnX",
        "outputId": "205777f9-baa8-4d2c-82b6-140dc2fa41c3"
      },
      "execution_count": null,
      "outputs": [
        {
          "output_type": "stream",
          "name": "stdout",
          "text": [
            "Epoch 1/10\n"
          ]
        },
        {
          "output_type": "stream",
          "name": "stderr",
          "text": [
            "/usr/local/lib/python3.12/dist-packages/keras/src/layers/rnn/rnn.py:199: UserWarning: Do not pass an `input_shape`/`input_dim` argument to a layer. When using Sequential models, prefer using an `Input(shape)` object as the first layer in the model instead.\n",
            "  super().__init__(**kwargs)\n"
          ]
        },
        {
          "output_type": "stream",
          "name": "stdout",
          "text": [
            "\u001b[1m151/151\u001b[0m \u001b[32m━━━━━━━━━━━━━━━━━━━━\u001b[0m\u001b[37m\u001b[0m \u001b[1m13s\u001b[0m 59ms/step - loss: 0.0161\n",
            "Epoch 2/10\n",
            "\u001b[1m151/151\u001b[0m \u001b[32m━━━━━━━━━━━━━━━━━━━━\u001b[0m\u001b[37m\u001b[0m \u001b[1m9s\u001b[0m 59ms/step - loss: 0.0010\n",
            "Epoch 3/10\n",
            "\u001b[1m151/151\u001b[0m \u001b[32m━━━━━━━━━━━━━━━━━━━━\u001b[0m\u001b[37m\u001b[0m \u001b[1m10s\u001b[0m 58ms/step - loss: 9.6170e-04\n",
            "Epoch 4/10\n",
            "\u001b[1m151/151\u001b[0m \u001b[32m━━━━━━━━━━━━━━━━━━━━\u001b[0m\u001b[37m\u001b[0m \u001b[1m10s\u001b[0m 57ms/step - loss: 9.0530e-04\n",
            "Epoch 5/10\n",
            "\u001b[1m151/151\u001b[0m \u001b[32m━━━━━━━━━━━━━━━━━━━━\u001b[0m\u001b[37m\u001b[0m \u001b[1m9s\u001b[0m 57ms/step - loss: 7.8215e-04\n",
            "Epoch 6/10\n",
            "\u001b[1m151/151\u001b[0m \u001b[32m━━━━━━━━━━━━━━━━━━━━\u001b[0m\u001b[37m\u001b[0m \u001b[1m9s\u001b[0m 59ms/step - loss: 9.0507e-04\n",
            "Epoch 7/10\n",
            "\u001b[1m151/151\u001b[0m \u001b[32m━━━━━━━━━━━━━━━━━━━━\u001b[0m\u001b[37m\u001b[0m \u001b[1m9s\u001b[0m 58ms/step - loss: 7.2147e-04\n",
            "Epoch 8/10\n",
            "\u001b[1m151/151\u001b[0m \u001b[32m━━━━━━━━━━━━━━━━━━━━\u001b[0m\u001b[37m\u001b[0m \u001b[1m11s\u001b[0m 62ms/step - loss: 7.7277e-04\n",
            "Epoch 9/10\n",
            "\u001b[1m151/151\u001b[0m \u001b[32m━━━━━━━━━━━━━━━━━━━━\u001b[0m\u001b[37m\u001b[0m \u001b[1m8s\u001b[0m 56ms/step - loss: 6.9799e-04\n",
            "Epoch 10/10\n",
            "\u001b[1m151/151\u001b[0m \u001b[32m━━━━━━━━━━━━━━━━━━━━\u001b[0m\u001b[37m\u001b[0m \u001b[1m10s\u001b[0m 55ms/step - loss: 6.6401e-04\n"
          ]
        },
        {
          "output_type": "execute_result",
          "data": {
            "text/plain": [
              "<keras.src.callbacks.history.History at 0x7e4a10c24440>"
            ]
          },
          "metadata": {},
          "execution_count": 12
        }
      ]
    },
    {
      "cell_type": "markdown",
      "source": [
        "analisis de prediccion"
      ],
      "metadata": {
        "id": "zVnIeNFNFuWL"
      }
    },
    {
      "cell_type": "code",
      "source": [
        "hist_test = yf.download(Activo, start = '2025-01-01', end='2025-05-15')\n",
        "precios_actuales = hist_test.dropna()\n",
        "precios_actuales = precios_actuales['Close'].values\n",
        "precios_actuales"
      ],
      "metadata": {
        "colab": {
          "base_uri": "https://localhost:8080/"
        },
        "id": "kh0pu3MTE1JR",
        "outputId": "fd444624-9915-43d5-88dd-90a335748eca"
      },
      "execution_count": null,
      "outputs": [
        {
          "output_type": "stream",
          "name": "stderr",
          "text": [
            "/tmp/ipython-input-2683092478.py:1: FutureWarning: YF.download() has changed argument auto_adjust default to True\n",
            "  hist_test = yf.download(Activo, start = '2025-01-01', end='2025-05-15')\n",
            "[*********************100%***********************]  1 of 1 completed\n"
          ]
        },
        {
          "output_type": "execute_result",
          "data": {
            "text/plain": [
              "array([[ 94419.7578125],\n",
              "       [ 96886.875    ],\n",
              "       [ 98107.4296875],\n",
              "       [ 98236.2265625],\n",
              "       [ 98314.9609375],\n",
              "       [102078.0859375],\n",
              "       [ 96922.703125 ],\n",
              "       [ 95043.5234375],\n",
              "       [ 92484.0390625],\n",
              "       [ 94701.453125 ],\n",
              "       [ 94566.59375  ],\n",
              "       [ 94488.4375   ],\n",
              "       [ 94516.5234375],\n",
              "       [ 96534.046875 ],\n",
              "       [100504.4921875],\n",
              "       [ 99756.90625  ],\n",
              "       [104462.0390625],\n",
              "       [104408.0703125],\n",
              "       [101089.609375 ],\n",
              "       [102016.6640625],\n",
              "       [106146.265625 ],\n",
              "       [103653.0703125],\n",
              "       [103960.171875 ],\n",
              "       [104819.484375 ],\n",
              "       [104714.6484375],\n",
              "       [102682.5      ],\n",
              "       [102087.6875   ],\n",
              "       [101332.4765625],\n",
              "       [103703.2109375],\n",
              "       [104735.3046875],\n",
              "       [102405.0234375],\n",
              "       [100655.90625  ],\n",
              "       [ 97688.9765625],\n",
              "       [101405.421875 ],\n",
              "       [ 97871.8203125],\n",
              "       [ 96615.4453125],\n",
              "       [ 96593.296875 ],\n",
              "       [ 96529.0859375],\n",
              "       [ 96482.453125 ],\n",
              "       [ 96500.09375  ],\n",
              "       [ 97437.5546875],\n",
              "       [ 95747.4296875],\n",
              "       [ 97885.859375 ],\n",
              "       [ 96623.8671875],\n",
              "       [ 97508.96875  ],\n",
              "       [ 97580.3515625],\n",
              "       [ 96175.03125  ],\n",
              "       [ 95773.3828125],\n",
              "       [ 95539.546875 ],\n",
              "       [ 96635.609375 ],\n",
              "       [ 98333.9375   ],\n",
              "       [ 96125.546875 ],\n",
              "       [ 96577.7578125],\n",
              "       [ 96273.921875 ],\n",
              "       [ 91418.171875 ],\n",
              "       [ 88736.171875 ],\n",
              "       [ 84347.0234375],\n",
              "       [ 84704.2265625],\n",
              "       [ 84373.0078125],\n",
              "       [ 86031.9140625],\n",
              "       [ 94248.3515625],\n",
              "       [ 86065.671875 ],\n",
              "       [ 87222.1953125],\n",
              "       [ 90623.5625   ],\n",
              "       [ 89961.7265625],\n",
              "       [ 86742.671875 ],\n",
              "       [ 86154.59375  ],\n",
              "       [ 80601.0390625],\n",
              "       [ 78532.       ],\n",
              "       [ 82862.2109375],\n",
              "       [ 83722.359375 ],\n",
              "       [ 81066.703125 ],\n",
              "       [ 83969.1015625],\n",
              "       [ 84343.109375 ],\n",
              "       [ 82579.6875   ],\n",
              "       [ 84075.6875   ],\n",
              "       [ 82718.5      ],\n",
              "       [ 86854.2265625],\n",
              "       [ 84167.1953125],\n",
              "       [ 84043.2421875],\n",
              "       [ 83832.484375 ],\n",
              "       [ 86054.375    ],\n",
              "       [ 87498.9140625],\n",
              "       [ 87471.703125 ],\n",
              "       [ 86900.8828125],\n",
              "       [ 87177.1015625],\n",
              "       [ 84353.1484375],\n",
              "       [ 82597.5859375],\n",
              "       [ 82334.5234375],\n",
              "       [ 82548.9140625],\n",
              "       [ 85169.171875 ],\n",
              "       [ 82485.7109375],\n",
              "       [ 83102.828125 ],\n",
              "       [ 83843.8046875],\n",
              "       [ 83504.796875 ],\n",
              "       [ 78214.484375 ],\n",
              "       [ 79235.3359375],\n",
              "       [ 76271.953125 ],\n",
              "       [ 82573.953125 ],\n",
              "       [ 79626.140625 ],\n",
              "       [ 83404.8359375],\n",
              "       [ 85287.109375 ],\n",
              "       [ 83684.9765625],\n",
              "       [ 84542.390625 ],\n",
              "       [ 83668.9921875],\n",
              "       [ 84033.8671875],\n",
              "       [ 84895.75     ],\n",
              "       [ 84450.8046875],\n",
              "       [ 85063.4140625],\n",
              "       [ 85174.3046875],\n",
              "       [ 87518.90625  ],\n",
              "       [ 93441.890625 ],\n",
              "       [ 93699.109375 ],\n",
              "       [ 93943.796875 ],\n",
              "       [ 94720.5      ],\n",
              "       [ 94646.9296875],\n",
              "       [ 93754.84375  ],\n",
              "       [ 94978.75     ],\n",
              "       [ 94284.7890625],\n",
              "       [ 94207.3125   ],\n",
              "       [ 96492.3359375],\n",
              "       [ 96910.0703125],\n",
              "       [ 95891.796875 ],\n",
              "       [ 94315.9765625],\n",
              "       [ 94748.0546875],\n",
              "       [ 96802.4765625],\n",
              "       [ 97032.3203125],\n",
              "       [103241.4609375],\n",
              "       [102970.8515625],\n",
              "       [104696.328125 ],\n",
              "       [104106.359375 ],\n",
              "       [102812.953125 ],\n",
              "       [104169.8125   ],\n",
              "       [103539.4140625]])"
            ]
          },
          "metadata": {},
          "execution_count": 13
        }
      ]
    },
    {
      "cell_type": "code",
      "source": [
        "total_dataset = pd.concat((hist['Close'],hist_test['Close']), axis=0)\n",
        "model_inputs = total_dataset[len(total_dataset) - len(hist_test) - prediction_days:].values\n",
        "model_inputs = scaler.transform(model_inputs.reshape(-1,1))\n"
      ],
      "metadata": {
        "id": "EGJtS-lZFwg3"
      },
      "execution_count": null,
      "outputs": []
    },
    {
      "cell_type": "code",
      "source": [
        "x_test =[]\n",
        "\n",
        "for i in range(prediction_days, len(model_inputs)):\n",
        "    x_test.append(model_inputs[i-prediction_days:i, 0])\n",
        "\n",
        "x_test = np.array(x_test)\n",
        "x_test = np.reshape(x_test, (x_test.shape[0], x_test.shape[1], 1))"
      ],
      "metadata": {
        "id": "1GUQaXOgG1zd"
      },
      "execution_count": null,
      "outputs": []
    },
    {
      "cell_type": "code",
      "source": [
        "predictions = model.predict(x_test)\n",
        "predicted_prices = scaler.inverse_transform(predictions)  # proceso inverso para volver a los precios a la normalidad.\n"
      ],
      "metadata": {
        "colab": {
          "base_uri": "https://localhost:8080/"
        },
        "id": "dY1HG8McHHlZ",
        "outputId": "9d031a81-42a8-4c09-dae9-50408b75f916"
      },
      "execution_count": null,
      "outputs": [
        {
          "output_type": "stream",
          "name": "stdout",
          "text": [
            "\u001b[1m5/5\u001b[0m \u001b[32m━━━━━━━━━━━━━━━━━━━━\u001b[0m\u001b[37m\u001b[0m \u001b[1m1s\u001b[0m 88ms/step\n"
          ]
        }
      ]
    },
    {
      "cell_type": "code",
      "source": [
        "#comparamos los precios reales con los predichos\n",
        "plt.plot(precios_actuales, color='blue', label=f'Precio real {Activo}')\n",
        "plt.plot(predicted_prices, color='red', label=f'Precio predicho {Activo}')\n",
        "plt.title(f'{Activo} precio real vs predicho')\n",
        "plt.xlabel('Tiempo')\n",
        "plt.legend()\n",
        "plt.ylabel(f'Precio de {Activo}')"
      ],
      "metadata": {
        "colab": {
          "base_uri": "https://localhost:8080/",
          "height": 489
        },
        "id": "I971VGy-HUpI",
        "outputId": "1527bd02-738b-4062-e0fc-1f420ac64e83"
      },
      "execution_count": null,
      "outputs": [
        {
          "output_type": "execute_result",
          "data": {
            "text/plain": [
              "Text(0, 0.5, 'Precio de BTC-USD')"
            ]
          },
          "metadata": {},
          "execution_count": 17
        },
        {
          "output_type": "display_data",
          "data": {
            "text/plain": [
              "<Figure size 640x480 with 1 Axes>"
            ],
            "image/png": "[encoded data removed]"
          },
          "metadata": {}
        }
      ]
    },
    {
      "cell_type": "markdown",
      "source": [
        "rentabilidad si seguiamos lo que decia la prediccion"
      ],
      "metadata": {
        "id": "5tT9Wj2rXWKm"
      }
    },
    {
      "cell_type": "code",
      "source": [
        "rentabilidad = 1\n",
        "for i in range(1,len(precios_actuales)):\n",
        "  if precios_actuales[i] > precios_actuales[i-1]:\n",
        "    rentabilidad = rentabilidad * (precios_actuales[i]/precios_actuales[i-1])\n",
        "\n",
        "print((rentabilidad-1)*100,'%')"
      ],
      "metadata": {
        "colab": {
          "base_uri": "https://localhost:8080/"
        },
        "id": "gugnoNCjWQad",
        "outputId": "9dd4104b-72f0-4678-c9f5-8b320842ff07"
      },
      "execution_count": null,
      "outputs": [
        {
          "output_type": "stream",
          "name": "stdout",
          "text": [
            "[270.67737592] %\n"
          ]
        }
      ]
    },
    {
      "cell_type": "code",
      "source": [],
      "metadata": {
        "id": "T4xxjAZJXVpD"
      },
      "execution_count": null,
      "outputs": []
    },
    {
      "cell_type": "markdown",
      "source": [],
      "metadata": {
        "id": "Cc3po688HkSa"
      }
    }
  ]
}